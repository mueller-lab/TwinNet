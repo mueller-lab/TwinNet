{
 "cells": [
  {
   "cell_type": "code",
   "execution_count": 14,
   "id": "fec8b830",
   "metadata": {},
   "outputs": [
    {
     "name": "stdout",
     "output_type": "stream",
     "text": [
      "The autoreload extension is already loaded. To reload it, use:\n",
      "  %reload_ext autoreload\n"
     ]
    }
   ],
   "source": [
    "%load_ext autoreload\n",
    "%autoreload 2"
   ]
  },
  {
   "cell_type": "code",
   "execution_count": 15,
   "id": "75668729",
   "metadata": {
    "scrolled": false
   },
   "outputs": [],
   "source": [
    "from datetime import datetime as dt\n",
    "import glob\n",
    "import numpy as np\n",
    "import os\n",
    "import sys\n",
    "\n",
    "sys.path.append('./Tools_V1/')\n",
    "\n",
    "from tools_V1.general import SNNToolset\n",
    "from tools_V1.model import TNUtilsModelBlocks\n",
    "from tools_V1.inferencelite import ToolsInferenceLite\n",
    "from tools_V1.similarities_self_2D import PlotSimilaritiesSelf2D\n",
    "\n",
    "import os\n",
    "os.environ['TF_CPP_MIN_LOG_LEVEL'] = '3'\n",
    "os.environ['TF_FORCE_GPU_ALLOW_GROWTH'] = 'true'"
   ]
  },
  {
   "cell_type": "code",
   "execution_count": 16,
   "id": "d296d9cf",
   "metadata": {},
   "outputs": [],
   "source": [
    "tools_general = SNNToolset()\n",
    "tools_model = TNUtilsModelBlocks()\n",
    "tools_inference_lite = ToolsInferenceLite()\n",
    "tools_plot_2d = PlotSimilaritiesSelf2D()"
   ]
  },
  {
   "cell_type": "markdown",
   "id": "60fd29b1",
   "metadata": {},
   "source": [
    "### 1. Source paths"
   ]
  },
  {
   "cell_type": "code",
   "execution_count": 17,
   "id": "e9880695",
   "metadata": {},
   "outputs": [],
   "source": [
    "modelId=\"model2\"\n",
    "epochTrained=\"dir_dst_model_epochs_20\"\n",
    "organismName=\"Stickleback\"\n",
    "\n",
    "path_dataset_json = \"/media/hmorales/Skynet/TwinNet/\"+organismName+\"/embryos_test.json\"\n",
    "embryos_normal = sorted(tools_general.fn_json_load(path_dataset_json)['normal_bright_complete'])"
   ]
  },
  {
   "cell_type": "code",
   "execution_count": 18,
   "id": "3d107288",
   "metadata": {},
   "outputs": [],
   "source": [
    "dir_dst_2D = \"/media/hmorales/Skynet/TwinNet/\"+organismName+\"/output/\"+modelId+\"_\"+epochTrained+\"/\""
   ]
  },
  {
   "cell_type": "markdown",
   "id": "a11a7f03",
   "metadata": {},
   "source": [
    "### 2. Embedding model"
   ]
  },
  {
   "cell_type": "code",
   "execution_count": 19,
   "id": "bd8e0fce",
   "metadata": {
    "scrolled": true
   },
   "outputs": [],
   "source": [
    "path_model_old = \"/media/hmorales/Skynet/TwinNet/\"+organismName+\"/models/\"+modelId+\"/\"+epochTrained+\"/\""
   ]
  },
  {
   "cell_type": "code",
   "execution_count": 20,
   "id": "2ebae7cf",
   "metadata": {},
   "outputs": [
    {
     "name": "stdout",
     "output_type": "stream",
     "text": [
      "2.11.0\n"
     ]
    }
   ],
   "source": [
    "resnet50 = tools_model.snn_embedding_resnet50_make()"
   ]
  },
  {
   "cell_type": "code",
   "execution_count": 21,
   "id": "b2ba9d24",
   "metadata": {},
   "outputs": [
    {
     "data": {
      "text/plain": [
       "<tensorflow.python.checkpoint.checkpoint.CheckpointLoadStatus at 0x7f4b3e208670>"
      ]
     },
     "execution_count": 21,
     "metadata": {},
     "output_type": "execute_result"
    }
   ],
   "source": [
    "resnet50.load_weights(path_model_old)"
   ]
  },
  {
   "cell_type": "markdown",
   "id": "e1afb5c4",
   "metadata": {},
   "source": [
    "### 3. Loop through paths: Calculate embeddings and similarities, save similarities"
   ]
  },
  {
   "cell_type": "code",
   "execution_count": 22,
   "id": "4bdb6970",
   "metadata": {},
   "outputs": [],
   "source": [
    "exp_imgs_embs_similarities = dict()"
   ]
  },
  {
   "cell_type": "code",
   "execution_count": 23,
   "id": "386f3529",
   "metadata": {
    "scrolled": true
   },
   "outputs": [
    {
     "name": "stdout",
     "output_type": "stream",
     "text": [
      "[0001/7][0:00:00.000086]                          \n",
      "1349E] Image embeddings 27/27                     \n",
      "[0002/7][0:00:13.494977]                          \n",
      "1349E] Image embeddings 27/27                     \n",
      "[0003/7][0:00:27.047126]                          \n",
      "1349E] Image embeddings 27/27                     \n",
      "[0004/7][0:00:40.637388]                          \n",
      "1349E] Image embeddings 27/27                     \n",
      "[0005/7][0:00:54.161523]                          \n",
      "1349E] Image embeddings 27/27                     \n",
      "[0006/7][0:01:07.640730]                          \n",
      "1349E] Image embeddings 27/27                     \n",
      "[0007/7][0:01:21.192488]                          \n",
      "1349E] Image embeddings 27/27                     \n"
     ]
    }
   ],
   "source": [
    "time_start = dt.now()\n",
    "for i in range(len(embryos_normal)):\n",
    "    embryo_normal = embryos_normal[i]\n",
    "    duration = dt.now() - time_start\n",
    "    print(f\"[{str(i+1).zfill(4)}/{len(embryos_normal)}][{duration}]\".ljust(50),\n",
    "          end='\\n')\n",
    "    \n",
    "    exp_emb_id = tools_inference_lite.fn_stem_name_experiment_embryo(f\"{embryo_normal}/*.tif\")\n",
    "    imgs, embs, sims = tools_inference_lite.dir_embryo_to_similarities_self(embryo_normal, resnet50)\n",
    "    exp_imgs_embs_similarities[exp_emb_id] = {\n",
    "        'paths_imgs': imgs,\n",
    "        'array_embs': embs,\n",
    "        'list_similarities': sims\n",
    "    }\n",
    "    #print(type(sims))\n",
    "    print(len(sims))\n",
    "    #for imagepath in imgs:\n",
    "    #    print(imagepath)"
   ]
  },
  {
   "cell_type": "markdown",
   "id": "16391153",
   "metadata": {},
   "source": [
    "### Save image paths, embeddings, similarities to files"
   ]
  },
  {
   "cell_type": "code",
   "execution_count": 24,
   "id": "9c3616ba",
   "metadata": {},
   "outputs": [
    {
     "name": "stdout",
     "output_type": "stream",
     "text": [
      "210709_Normal--XY10--E001\n",
      "210709_Normal--XY10--E002\n",
      "210709_Normal--XY15--E001\n",
      "210709_Normal--XY15--E002\n",
      "210709_Normal--XY20--E001\n",
      "210709_Normal--XY20--E002\n",
      "210709_Normal--XY20--E003\n"
     ]
    }
   ],
   "source": [
    "for _k_embryo, (_v_k_imgs, _v_k_embs, _v_k_sims) in exp_imgs_embs_similarities.items():\n",
    "    print(_k_embryo)\n",
    "    # Embryo directory for data\n",
    "    path_dst_dir_data = tools_general.fn_dirs_make(f'{dir_dst_2D}/data/{_k_embryo}/')\n",
    "    \n",
    "    # Image paths\n",
    "    tools_general.fn_json_write({'paths_imgs': exp_imgs_embs_similarities[_k_embryo][_v_k_imgs]},\n",
    "                                f\"{path_dst_dir_data}/20221022_{_k_embryo}_2Dplot_paths_images.json\")\n",
    "    \n",
    "    # Embeddings\n",
    "    tools_general.fn_npy_write(exp_imgs_embs_similarities[_k_embryo][_v_k_embs],\n",
    "                               f\"{path_dst_dir_data}/20221022_{_k_embryo}_2Dplot_embeddings.npy\")\n",
    "    # Similarities\n",
    "    tools_inference_lite.fn_similarities_save(path_dst_dir_data,\n",
    "                                              exp_imgs_embs_similarities[_k_embryo][_v_k_sims],\n",
    "                                              embryo_id=_k_embryo)"
   ]
  },
  {
   "cell_type": "markdown",
   "id": "e110dfb2",
   "metadata": {},
   "source": [
    "### Load image paths, embeddings, similarities to files"
   ]
  },
  {
   "cell_type": "code",
   "execution_count": 25,
   "id": "10261617",
   "metadata": {},
   "outputs": [],
   "source": [
    "for i in range(len(embryos_normal)):\n",
    "    embryo_normal = embryos_normal[i]\n",
    "    exp_emb_id = tools_inference_lite.fn_stem_name_experiment_embryo(f\"{embryo_normal}/*.tif\")\n",
    "    path_dst_dir_data = f\"{dir_dst_2D}/data/{exp_emb_id}/\"\n",
    "\n",
    "    exp_imgs_embs_similarities[exp_emb_id] = {\n",
    "        'paths_imgs': tools_general.fn_json_load(glob.glob(\n",
    "            f\"{path_dst_dir_data}*_2Dplot_paths_images.json\")[0])['paths_imgs'],\n",
    "        'array_embs': np.load(glob.glob(f\"{path_dst_dir_data}*_2Dplot_embeddings.npy\")[0]),\n",
    "        'list_similarities': tools_inference_lite.fn_similarities_load(path_dst_dir_data)\n",
    "    }\n",
    "    #print(path_dst_dir_data)\n",
    "    #temp = tools_inference_lite.fn_similarities_load(path_dst_dir_data)\n",
    "    #length = len(temp)\n",
    "    #print(temp[50])\n",
    "    #for i in range(length):\n",
    "    #    print(temp[i])"
   ]
  },
  {
   "cell_type": "markdown",
   "id": "6df4acb2",
   "metadata": {},
   "source": [
    "### 4. Plot similarities 2D"
   ]
  },
  {
   "cell_type": "markdown",
   "id": "7a428116",
   "metadata": {},
   "source": [
    "### E000"
   ]
  },
  {
   "cell_type": "code",
   "execution_count": 26,
   "id": "c81cc430",
   "metadata": {
    "scrolled": true
   },
   "outputs": [
    {
     "name": "stdout",
     "output_type": "stream",
     "text": [
      "/media/hmorales/Skynet/TwinNet/Stickleback/output/model2_dir_dst_model_epochs_20//plots/210709_Normal--XY10--E001/\n",
      "1350\n",
      "True\n",
      "(1349, 1349)\n",
      "(1349, 1349)\n",
      "/media/hmorales/Skynet/TwinNet/Stickleback/output/model2_dir_dst_model_epochs_20//plots/210709_Normal--XY10--E002/\n",
      "1350\n",
      "True\n",
      "(1349, 1349)\n",
      "(1349, 1349)\n",
      "/media/hmorales/Skynet/TwinNet/Stickleback/output/model2_dir_dst_model_epochs_20//plots/210709_Normal--XY15--E001/\n",
      "1350\n",
      "True\n",
      "(1349, 1349)\n",
      "(1349, 1349)\n",
      "/media/hmorales/Skynet/TwinNet/Stickleback/output/model2_dir_dst_model_epochs_20//plots/210709_Normal--XY15--E002/\n",
      "1350\n",
      "True\n",
      "(1349, 1349)\n",
      "(1349, 1349)\n",
      "/media/hmorales/Skynet/TwinNet/Stickleback/output/model2_dir_dst_model_epochs_20//plots/210709_Normal--XY20--E001/\n",
      "1350\n",
      "True\n",
      "(1349, 1349)\n",
      "(1349, 1349)\n",
      "/media/hmorales/Skynet/TwinNet/Stickleback/output/model2_dir_dst_model_epochs_20//plots/210709_Normal--XY20--E002/\n",
      "1350\n",
      "True\n",
      "(1349, 1349)\n",
      "(1349, 1349)\n",
      "/media/hmorales/Skynet/TwinNet/Stickleback/output/model2_dir_dst_model_epochs_20//plots/210709_Normal--XY20--E003/\n",
      "1350\n",
      "True\n",
      "(1349, 1349)\n",
      "(1349, 1349)\n"
     ]
    }
   ],
   "source": [
    "dir_dst_plots=dir_dst_2D\n",
    "for _k_embryo, _v_embryo in exp_imgs_embs_similarities.items():\n",
    "\n",
    "    # Embryo directory for plots\n",
    "    path_dst_dir_data = tools_general.fn_dirs_make(f'{dir_dst_plots}/plots/{_k_embryo}/')\n",
    "    print(path_dst_dir_data)    \n",
    "    # Plot 2D similarities\n",
    "    path_save_fig = \"{}/{}_sims_autoregression.svg\" \\\n",
    "        .format(path_dst_dir_data, _k_embryo)\n",
    "    path_save_GridZ = \"{}/{}_sims_autoregression_gridZ.mat\" \\\n",
    "        .format(path_dst_dir_data, _k_embryo)     \n",
    "    path_save_GridCV = \"{}/{}_sims_autoregression_gridZ.csv\" \\\n",
    "        .format(path_dst_dir_data, _k_embryo)      \n",
    "    tools_plot_2d.plot_embryo_similarities_self_2d(\n",
    "        _v_embryo['list_similarities'],\n",
    "        _v_embryo['paths_imgs'],\n",
    "        color_adjust=True,\n",
    "        lamb=0.1,\n",
    "        path_saveCV=path_save_GridCV,\n",
    "        path_saveZ=path_save_GridZ,\n",
    "        path_save=path_save_fig)"
   ]
  },
  {
   "cell_type": "code",
   "execution_count": null,
   "id": "d61749d9",
   "metadata": {},
   "outputs": [],
   "source": []
  },
  {
   "cell_type": "code",
   "execution_count": null,
   "id": "37c60077",
   "metadata": {},
   "outputs": [],
   "source": []
  }
 ],
 "metadata": {
  "kernelspec": {
   "display_name": "Python 3 (ipykernel)",
   "language": "python",
   "name": "python3"
  },
  "language_info": {
   "codemirror_mode": {
    "name": "ipython",
    "version": 3
   },
   "file_extension": ".py",
   "mimetype": "text/x-python",
   "name": "python",
   "nbconvert_exporter": "python",
   "pygments_lexer": "ipython3",
   "version": "3.9.16"
  }
 },
 "nbformat": 4,
 "nbformat_minor": 5
}
