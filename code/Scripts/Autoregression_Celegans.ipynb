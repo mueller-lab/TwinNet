{
 "cells": [
  {
   "cell_type": "markdown",
   "id": "3d38a669",
   "metadata": {},
   "source": [
    "# Calculation of self-similarity curves: Caenorhabditis elegans"
   ]
  },
  {
   "cell_type": "markdown",
   "id": "fc0eb452",
   "metadata": {},
   "source": [
    "# Table of Contents\n",
    "* [General](#first-bullet)\n",
    "* [Load paths](#second-bullet)\n",
    "* [Load model](#third-bullet)\n",
    "* [Calculate embeddings and similarities](#fourth-bullet)\n",
    "* [Plot similarities as 2D matrix](#fifth-bullet)"
   ]
  },
  {
   "cell_type": "markdown",
   "id": "f4e5eb03",
   "metadata": {},
   "source": [
    "## General <a class=\"anchor\" id=\"first-bullet\"></a>"
   ]
  },
  {
   "cell_type": "markdown",
   "id": "d5771994",
   "metadata": {},
   "source": [
    "General imports and class definitions"
   ]
  },
  {
   "cell_type": "code",
   "execution_count": 1,
   "id": "f774ee0c",
   "metadata": {},
   "outputs": [],
   "source": [
    "%load_ext autoreload\n",
    "%autoreload 2"
   ]
  },
  {
   "cell_type": "markdown",
   "id": "8ce196c5",
   "metadata": {},
   "source": [
    "Import Python packages"
   ]
  },
  {
   "cell_type": "code",
   "execution_count": 2,
   "id": "f950309c",
   "metadata": {},
   "outputs": [],
   "source": [
    "import glob\n",
    "from IPython.display import HTML, Image,SVG,display\n",
    "import matplotlib as mpl\n",
    "import pandas as pd\n",
    "from pathlib import Path\n",
    "import sys\n",
    "\n",
    "from twinnet_tools.tnautoregression import TNToolsAutoregression\n",
    "from twinnet_tools.tngeneral import TNToolsGeneral\n",
    "from twinnet_tools.tninference import TNToolsEmbeddings\n",
    "from twinnet_tools.tninference import TNToolsImages\n",
    "from twinnet_tools.tninference import TNToolsSimilarities\n",
    "from twinnet_tools.tnmodel import TNToolsNetwork\n",
    "from twinnet_tools.tnplot import TNToolsPlot\n",
    "\n",
    "from twinnet_tools.tnconfig import ProjectConfig"
   ]
  },
  {
   "cell_type": "markdown",
   "id": "d3fdb9ae",
   "metadata": {},
   "source": [
    "Load config file and paths from config file"
   ]
  },
  {
   "cell_type": "code",
   "execution_count": 3,
   "id": "523e3b98",
   "metadata": {},
   "outputs": [
    {
     "name": "stdout",
     "output_type": "stream",
     "text": [
      "ProjectConfig: C:\\Users\\TwinNetworkTest\\Documents\\TwinNetworkTest\\code\\Scripts\\twinnet_config\\Windows\\config.json\n"
     ]
    }
   ],
   "source": [
    "config = ProjectConfig(\"twinnet_config\")"
   ]
  },
  {
   "cell_type": "code",
   "execution_count": 4,
   "id": "fb03a5d9",
   "metadata": {},
   "outputs": [],
   "source": [
    "path_model_celegans = config.json[\"path_model_celegans\"]\n",
    "\n",
    "config_paths_script = config.json[\"Autoregression_celegans\"]\n",
    "dir_data = config_paths_script[\"dir_data_src\"]\n",
    "path_src_data_test_json = config_paths_script[\"path_src_data_test_json\"]\n",
    "path_dst = config_paths_script[\"dir_data_dst\"]"
   ]
  },
  {
   "cell_type": "markdown",
   "id": "d29b61fe",
   "metadata": {},
   "source": [
    "Prepare class instances"
   ]
  },
  {
   "cell_type": "code",
   "execution_count": 5,
   "id": "2338b21d",
   "metadata": {},
   "outputs": [],
   "source": [
    "tools_autoregression = TNToolsAutoregression()\n",
    "tools_general = TNToolsGeneral()\n",
    "tools_embeddings = TNToolsEmbeddings(size_img=224, size_img_min=300)\n",
    "tools_model = TNToolsNetwork()\n",
    "tools_similarities = TNToolsSimilarities()\n",
    "tools_plot = TNToolsPlot()"
   ]
  },
  {
   "cell_type": "markdown",
   "id": "9d232d0c",
   "metadata": {},
   "source": [
    "Adjust matplotlib parameters to save plots as .svg files."
   ]
  },
  {
   "cell_type": "code",
   "execution_count": 6,
   "id": "d79ae21b",
   "metadata": {},
   "outputs": [],
   "source": [
    "new_rc_params = {'text.usetex': False,\n",
    "                'svg.fonttype': 'none'}\n",
    "mpl.rcParams.update(new_rc_params)"
   ]
  },
  {
   "cell_type": "markdown",
   "id": "2bda54c4",
   "metadata": {},
   "source": [
    "## Load paths <a class=\"anchor\" id=\"second-bullet\"></a>"
   ]
  },
  {
   "cell_type": "markdown",
   "id": "dfee7a71",
   "metadata": {},
   "source": [
    "Load test data paths"
   ]
  },
  {
   "cell_type": "code",
   "execution_count": 7,
   "id": "e46db25b",
   "metadata": {},
   "outputs": [],
   "source": [
    "embryos_test = [f\"{dir_data}/{p}/\".replace('//', '/').replace('./', '') \n",
    "                for p in sorted(tools_general.fn_json_load(\n",
    "                    path_src_data_test_json)['normal_bright_complete'])\n",
    "               ]"
   ]
  },
  {
   "cell_type": "code",
   "execution_count": 8,
   "id": "ca48b434",
   "metadata": {},
   "outputs": [],
   "source": [
    "embryo_test = embryos_test[0]"
   ]
  },
  {
   "cell_type": "markdown",
   "id": "3ba12e3c",
   "metadata": {},
   "source": [
    "Specify directory to outputs"
   ]
  },
  {
   "cell_type": "code",
   "execution_count": 9,
   "id": "876b6416",
   "metadata": {},
   "outputs": [],
   "source": [
    "dir_dst_similarities = f\"{path_dst}/similarities\"\n",
    "\n",
    "dir_dst_similarities_path = Path( dir_dst_similarities )\n",
    "dir_dst_similarities_path.mkdir(parents=True, exist_ok=True)"
   ]
  },
  {
   "cell_type": "markdown",
   "id": "5691a241",
   "metadata": {},
   "source": [
    "## Load model <a class=\"anchor\" id=\"third-bullet\"></a>"
   ]
  },
  {
   "cell_type": "code",
   "execution_count": 10,
   "id": "4dc6b97f",
   "metadata": {
    "scrolled": true
   },
   "outputs": [],
   "source": [
    "tn_model_embedding = tools_model.tn_embedding_load(path_model_celegans)"
   ]
  },
  {
   "cell_type": "markdown",
   "id": "967e4f57",
   "metadata": {},
   "source": [
    "## Calculate embeddings and similarities <a class=\"anchor\" id=\"fourth-bullet\"></a>"
   ]
  },
  {
   "cell_type": "markdown",
   "id": "392cc524",
   "metadata": {},
   "source": [
    "Load image paths"
   ]
  },
  {
   "cell_type": "code",
   "execution_count": 11,
   "id": "b853ed8d",
   "metadata": {},
   "outputs": [],
   "source": [
    "paths_imgs = [p.replace(\"\\\\\", \"/\") \n",
    "              for p in\n",
    "              sorted(glob.glob(f\"{embryo_test}/*.tif\"))]"
   ]
  },
  {
   "cell_type": "markdown",
   "id": "c8b9298c",
   "metadata": {},
   "source": [
    "Load images and calculate embeddings"
   ]
  },
  {
   "cell_type": "code",
   "execution_count": 12,
   "id": "80a27c35",
   "metadata": {},
   "outputs": [
    {
     "name": "stdout",
     "output_type": "stream",
     "text": [
      "[DONE][Embeddings] 0006/0006                      \n"
     ]
    }
   ],
   "source": [
    "embeddings_test = tools_embeddings.list_to_embeddings(paths_imgs, tn_model_embedding)"
   ]
  },
  {
   "cell_type": "markdown",
   "id": "da0c7a6e",
   "metadata": {},
   "source": [
    "Calculate similarities"
   ]
  },
  {
   "cell_type": "code",
   "execution_count": 13,
   "id": "af1accef",
   "metadata": {},
   "outputs": [],
   "source": [
    "similarities_test = tools_similarities.cosine_similarities_self(embeddings_test)"
   ]
  },
  {
   "cell_type": "markdown",
   "id": "362e9f45",
   "metadata": {},
   "source": [
    "Save similarities"
   ]
  },
  {
   "cell_type": "code",
   "execution_count": 14,
   "id": "5f886b3a",
   "metadata": {},
   "outputs": [],
   "source": [
    "num_imgs = len(paths_imgs)\n",
    "\n",
    "similarities_test_array = tools_autoregression.fn_2d_sims_to_arrays(\n",
    "    similarities_test,\n",
    "    num_imgs\n",
    ")\n",
    "\n",
    "tools_general.fn_mat_write({\"similarities_test\": similarities_test_array},\n",
    "                           f\"{dir_dst_similarities}/TN_prediction_similarities.mat\")"
   ]
  },
  {
   "cell_type": "markdown",
   "id": "bd256e11",
   "metadata": {},
   "source": [
    "## Plot similarities as 2D matrix <a class=\"anchor\" id=\"fifth-bullet\"></a>"
   ]
  },
  {
   "cell_type": "code",
   "execution_count": 15,
   "id": "5630b8d5",
   "metadata": {},
   "outputs": [
    {
     "data": {
      "image/svg+xml": [
       "<svg xmlns:xlink=\"http://www.w3.org/1999/xlink\" xmlns=\"http://www.w3.org/2000/svg\" width=\"288pt\" height=\"288pt\" viewBox=\"0 0 288 288\" version=\"1.1\">\n",
       " <metadata>\n",
       "  <rdf:RDF xmlns:dc=\"http://purl.org/dc/elements/1.1/\" xmlns:cc=\"http://creativecommons.org/ns#\" xmlns:rdf=\"http://www.w3.org/1999/02/22-rdf-syntax-ns#\">\n",
       "   <cc:Work>\n",
       "    <dc:type rdf:resource=\"http://purl.org/dc/dcmitype/StillImage\"/>\n",
       "    <dc:date>2023-05-16T01:32:14.020440</dc:date>\n",
       "    <dc:format>image/svg+xml</dc:format>\n",
       "    <dc:creator>\n",
       "     <cc:Agent>\n",
       "      <dc:title>Matplotlib v3.5.1, https://matplotlib.org/</dc:title>\n",
       "     </cc:Agent>\n",
       "    </dc:creator>\n",
       "   </cc:Work>\n",
       "  </rdf:RDF>\n",
       " </metadata>\n",
       " <defs>\n",
       "  <style type=\"text/css\">*{stroke-linejoin: round; stroke-linecap: butt}</style>\n",
       " </defs>\n",
       " <g id=\"figure_1\">\n",
       "  <g id=\"patch_1\">\n",
       "   <path d=\"M 0 288  L 288 288  L 288 0  L 0 0  L 0 288  z \" style=\"fill: none\"/>\n",
       "  </g>\n",
       "  <g id=\"axes_1\">\n",
       "   <g id=\"patch_2\">\n",
       "    <path d=\"M 33.73 220.449524  L 199.749048 220.449524  L 199.749048 54.430476  L 33.73 54.430476  z \" style=\"fill: #ffffff\"/>\n",
       "   </g>\n",
       "   <g clip-path=\"url(#p638c349da8)\">\n",
       "    <image xlink:href=\"data:image/png;base64, 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\" id=\"imagecb8e56eae1\" transform=\"scale(1 -1)translate(0 -165.36)\" x=\"33.73\" y=\"-55.089524\" width=\"165.36\" height=\"165.36\"/>\n",
       "   </g>\n",
       "   <g id=\"matplotlib.axis_1\">\n",
       "    <g id=\"xtick_1\">\n",
       "     <g id=\"line2d_1\">\n",
       "      <defs>\n",
       "       <path id=\"m9b7340a097\" d=\"M 0 0  L 0 3.5  \" style=\"stroke: #000000; stroke-width: 0.8\"/>\n",
       "      </defs>\n",
       "      <g>\n",
       "       <use xlink:href=\"#m9b7340a097\" x=\"33.73\" y=\"220.449524\" style=\"stroke: #000000; stroke-width: 0.8\"/>\n",
       "      </g>\n",
       "     </g>\n",
       "     <g id=\"text_1\">\n",
       "      <text style=\"font: 6px 'sans-serif'; text-anchor: middle\" x=\"33.73\" y=\"232.008586\" transform=\"rotate(-0, 33.73, 232.008586)\">0</text>\n",
       "     </g>\n",
       "    </g>\n",
       "    <g id=\"xtick_2\">\n",
       "     <g id=\"line2d_2\">\n",
       "      <g>\n",
       "       <use xlink:href=\"#m9b7340a097\" x=\"109.885526\" y=\"220.449524\" style=\"stroke: #000000; stroke-width: 0.8\"/>\n",
       "      </g>\n",
       "     </g>\n",
       "     <g id=\"text_2\">\n",
       "      <text style=\"font: 6px 'sans-serif'; text-anchor: middle\" x=\"109.885526\" y=\"232.008586\" transform=\"rotate(-0, 109.885526, 232.008586)\">200</text>\n",
       "     </g>\n",
       "    </g>\n",
       "    <g id=\"xtick_3\">\n",
       "     <g id=\"line2d_3\">\n",
       "      <g>\n",
       "       <use xlink:href=\"#m9b7340a097\" x=\"186.041053\" y=\"220.449524\" style=\"stroke: #000000; stroke-width: 0.8\"/>\n",
       "      </g>\n",
       "     </g>\n",
       "     <g id=\"text_3\">\n",
       "      <text style=\"font: 6px 'sans-serif'; text-anchor: middle\" x=\"186.041053\" y=\"232.008586\" transform=\"rotate(-0, 186.041053, 232.008586)\">400</text>\n",
       "     </g>\n",
       "    </g>\n",
       "    <g id=\"text_4\">\n",
       "     <text style=\"font: 8px 'sans-serif'; text-anchor: middle\" x=\"116.739524\" y=\"243.335149\" transform=\"rotate(-0, 116.739524, 243.335149)\">Time (min)</text>\n",
       "    </g>\n",
       "   </g>\n",
       "   <g id=\"matplotlib.axis_2\">\n",
       "    <g id=\"ytick_1\">\n",
       "     <g id=\"line2d_4\">\n",
       "      <defs>\n",
       "       <path id=\"m39a9a1bee2\" d=\"M 0 0  L -3.5 0  \" style=\"stroke: #000000; stroke-width: 0.8\"/>\n",
       "      </defs>\n",
       "      <g>\n",
       "       <use xlink:href=\"#m39a9a1bee2\" x=\"33.73\" y=\"220.449524\" style=\"stroke: #000000; stroke-width: 0.8\"/>\n",
       "      </g>\n",
       "     </g>\n",
       "     <g id=\"text_5\">\n",
       "      <text style=\"font: 6px 'sans-serif'; text-anchor: end\" x=\"26.73\" y=\"222.729055\" transform=\"rotate(-0, 26.73, 222.729055)\">0</text>\n",
       "     </g>\n",
       "    </g>\n",
       "    <g id=\"ytick_2\">\n",
       "     <g id=\"line2d_5\">\n",
       "      <g>\n",
       "       <use xlink:href=\"#m39a9a1bee2\" x=\"33.73\" y=\"144.293997\" style=\"stroke: #000000; stroke-width: 0.8\"/>\n",
       "      </g>\n",
       "     </g>\n",
       "     <g id=\"text_6\">\n",
       "      <text style=\"font: 6px 'sans-serif'; text-anchor: end\" x=\"26.73\" y=\"146.573529\" transform=\"rotate(-0, 26.73, 146.573529)\">200</text>\n",
       "     </g>\n",
       "    </g>\n",
       "    <g id=\"ytick_3\">\n",
       "     <g id=\"line2d_6\">\n",
       "      <g>\n",
       "       <use xlink:href=\"#m39a9a1bee2\" x=\"33.73\" y=\"68.138471\" style=\"stroke: #000000; stroke-width: 0.8\"/>\n",
       "      </g>\n",
       "     </g>\n",
       "     <g id=\"text_7\">\n",
       "      <text style=\"font: 6px 'sans-serif'; text-anchor: end\" x=\"26.73\" y=\"70.418002\" transform=\"rotate(-0, 26.73, 70.418002)\">400</text>\n",
       "     </g>\n",
       "    </g>\n",
       "    <g id=\"text_8\">\n",
       "     <text style=\"font: 8px 'sans-serif'; text-anchor: middle\" x=\"9.61375\" y=\"137.44\" transform=\"rotate(-90, 9.61375, 137.44)\">Time (min)</text>\n",
       "    </g>\n",
       "   </g>\n",
       "   <g id=\"patch_3\">\n",
       "    <path d=\"M 33.73 220.449524  L 33.73 54.430476  \" style=\"fill: none; stroke: #000000; stroke-width: 0.8; stroke-linejoin: miter; stroke-linecap: square\"/>\n",
       "   </g>\n",
       "   <g id=\"patch_4\">\n",
       "    <path d=\"M 199.749048 220.449524  L 199.749048 54.430476  \" style=\"fill: none; stroke: #000000; stroke-width: 0.8; stroke-linejoin: miter; stroke-linecap: square\"/>\n",
       "   </g>\n",
       "   <g id=\"patch_5\">\n",
       "    <path d=\"M 33.73 220.449524  L 199.749048 220.449524  \" style=\"fill: none; stroke: #000000; stroke-width: 0.8; stroke-linejoin: miter; stroke-linecap: square\"/>\n",
       "   </g>\n",
       "   <g id=\"patch_6\">\n",
       "    <path d=\"M 33.73 54.430476  L 199.749048 54.430476  \" style=\"fill: none; stroke: #000000; stroke-width: 0.8; stroke-linejoin: miter; stroke-linecap: square\"/>\n",
       "   </g>\n",
       "  </g>\n",
       "  <g id=\"axes_2\">\n",
       "   <g id=\"patch_7\">\n",
       "    <path d=\"M 203.349048 220.449524  L 211.65 220.449524  L 211.65 54.430476  L 203.349048 54.430476  z \" style=\"fill: #ffffff\"/>\n",
       "   </g>\n",
       "   <g id=\"patch_8\">\n",
       "    <path clip-path=\"url(#p876a23d90a)\" style=\"fill: #ffffff; stroke: #ffffff; stroke-width: 0.01; stroke-linejoin: miter\"/>\n",
       "   </g>\n",
       "   <image xlink:href=\"data:image/png;base64, iVBORw0KGgoAAAANSUhEUgAAACMAAAK0CAYAAACJJYSLAAAD00lEQVR4nO3aO24sVRhGUdv3uBEBSNwAGBBDYP6DQAgBAjdZm6B23F+w1gi2/vOo6sfrL6+/3l9GvD074P/EFDFFTBFTxBQxRUwRU8QUMUVMEVPEFDFFTBFTxBQxRUwRU8QUMUVMEVPEFDFFTBFTxBQxRUwRU8QUMUVMEVPEFDFFTBFTxBQxRUwRU8QUMUVMEVPEFDFFTBFTxBQxRUwRU8QUMUVMEVPEFDFFTBFTxBQxRUwRU8QUMUVMEVPEFDFFTBFTxBQxRUwRU8QUMUVMEVPEFDFFTBFTxBQxRUwRU8QUMUVMEVPEFDFFTBFTxBQxRUwRU8QUMUVMEVPEFDFFTBFTxBQxRUwRU8QUMUVMEVPEFDFFTBFTxBQxRUwRU8QUMUVMEVPEFDFFTBFTxBQxRUwRU8QUMUVMEVPEFDFFTBFTxBQxRUwRU8SUqZjz8vrshE9jkxkazdRkpmIsUxFTxBQxRUwRU8QUMUVMEVPEFDFFTBFTxBQxRUwRU8QUMUVMmYo5rzvf1m9NRkwRU87L0HGamoyYIqaIKWKKmCKmiCliipgipogp/jRYpmL8ObnYwEVMEVPEFDdwmYrxOChTMX78KmKKmCKmiCliipgipnjtLFMxPsQV/58pUzHumTIV454pYoqYIqaIKVMxXq6KmDIVYwOXqZjzapmuiSlTMe6ZIqaIKU5T8f1MmYrxbWeZinGaig1cpmJs4DIV4zQVG7hMxZzXoXWamsxUjNNUpmJ8vC0mU6ZiLFOZivHaWTwoy1SMe6ZMxVimYjJlKsYylakYy1SmYixT8dpZpmJs4DIVY5nKeXnb6dkpeRmLsYHLVIxlKt5nylSMDVymYjy1y1TMuTtN187Lm8lcmorxOChTMU5TOXeTuTYVYwOXqRinqUzFOE3FC3mZirGBy1SMx0GxgctUzLl/sUyXpmLcM8UGLlMxNnCZijn3L89O+DQ1makYl145H+6Za1Mx7pkyFeOpXWzgMhVzPjwor03FnPt5dsKnrcl8uGeuTcV4IS9TMZ7aZSrGpVc8KMtUjA1cpmKcpnI+TObaVIxlKlMx7pliA5epmHM/92c3PExNZirmfLw/O+HT1GSmYs793Wm6dO7n49kND1OTmYo5LzbwtamY83b799kND2OTeXfPXJqKObfbP89ueJiazFTM+ebdMl06397+fnbDw9RkpmLO97e/nt3wMDWZqZjz3e3PZzc8TE1mKub8cPvj2Q0PW5P5+m4yl6Ziztf335/d8DA1mamY89P57dkND1uT+dFkrk3FnJ+OTweXpmLOz/7Mc20qxjKV/wCjtjpClhi6vAAAAABJRU5ErkJggg==\" id=\"image386be26c16\" transform=\"scale(1 -1)translate(0 -166.08)\" x=\"203.28\" y=\"-54.48\" width=\"8.4\" height=\"166.08\"/>\n",
       "   <g id=\"matplotlib.axis_3\">\n",
       "    <g id=\"ytick_4\">\n",
       "     <g id=\"line2d_7\">\n",
       "      <defs>\n",
       "       <path id=\"mb05742edbe\" d=\"M 0 0  L 3.5 0  \" style=\"stroke: #000000; stroke-width: 0.8\"/>\n",
       "      </defs>\n",
       "      <g>\n",
       "       <use xlink:href=\"#mb05742edbe\" x=\"211.65\" y=\"220.449524\" style=\"stroke: #000000; stroke-width: 0.8\"/>\n",
       "      </g>\n",
       "     </g>\n",
       "     <g id=\"text_9\">\n",
       "      <text style=\"font: 6px 'sans-serif'; text-anchor: start\" x=\"218.65\" y=\"222.729055\" transform=\"rotate(-0, 218.65, 222.729055)\">0.0</text>\n",
       "     </g>\n",
       "    </g>\n",
       "    <g id=\"ytick_5\">\n",
       "     <g id=\"line2d_8\">\n",
       "      <g>\n",
       "       <use xlink:href=\"#mb05742edbe\" x=\"211.65\" y=\"187.245714\" style=\"stroke: #000000; stroke-width: 0.8\"/>\n",
       "      </g>\n",
       "     </g>\n",
       "     <g id=\"text_10\">\n",
       "      <text style=\"font: 6px 'sans-serif'; text-anchor: start\" x=\"218.65\" y=\"189.525246\" transform=\"rotate(-0, 218.65, 189.525246)\">0.2</text>\n",
       "     </g>\n",
       "    </g>\n",
       "    <g id=\"ytick_6\">\n",
       "     <g id=\"line2d_9\">\n",
       "      <g>\n",
       "       <use xlink:href=\"#mb05742edbe\" x=\"211.65\" y=\"154.041905\" style=\"stroke: #000000; stroke-width: 0.8\"/>\n",
       "      </g>\n",
       "     </g>\n",
       "     <g id=\"text_11\">\n",
       "      <text style=\"font: 6px 'sans-serif'; text-anchor: start\" x=\"218.65\" y=\"156.321436\" transform=\"rotate(-0, 218.65, 156.321436)\">0.4</text>\n",
       "     </g>\n",
       "    </g>\n",
       "    <g id=\"ytick_7\">\n",
       "     <g id=\"line2d_10\">\n",
       "      <g>\n",
       "       <use xlink:href=\"#mb05742edbe\" x=\"211.65\" y=\"120.838095\" style=\"stroke: #000000; stroke-width: 0.8\"/>\n",
       "      </g>\n",
       "     </g>\n",
       "     <g id=\"text_12\">\n",
       "      <text style=\"font: 6px 'sans-serif'; text-anchor: start\" x=\"218.65\" y=\"123.117626\" transform=\"rotate(-0, 218.65, 123.117626)\">0.6</text>\n",
       "     </g>\n",
       "    </g>\n",
       "    <g id=\"ytick_8\">\n",
       "     <g id=\"line2d_11\">\n",
       "      <g>\n",
       "       <use xlink:href=\"#mb05742edbe\" x=\"211.65\" y=\"87.634286\" style=\"stroke: #000000; stroke-width: 0.8\"/>\n",
       "      </g>\n",
       "     </g>\n",
       "     <g id=\"text_13\">\n",
       "      <text style=\"font: 6px 'sans-serif'; text-anchor: start\" x=\"218.65\" y=\"89.913817\" transform=\"rotate(-0, 218.65, 89.913817)\">0.8</text>\n",
       "     </g>\n",
       "    </g>\n",
       "    <g id=\"ytick_9\">\n",
       "     <g id=\"line2d_12\">\n",
       "      <g>\n",
       "       <use xlink:href=\"#mb05742edbe\" x=\"211.65\" y=\"54.430476\" style=\"stroke: #000000; stroke-width: 0.8\"/>\n",
       "      </g>\n",
       "     </g>\n",
       "     <g id=\"text_14\">\n",
       "      <text style=\"font: 6px 'sans-serif'; text-anchor: start\" x=\"218.65\" y=\"56.710007\" transform=\"rotate(-0, 218.65, 56.710007)\">1.0</text>\n",
       "     </g>\n",
       "    </g>\n",
       "    <g id=\"text_15\">\n",
       "     <text style=\"font: 8px 'sans-serif'; text-anchor: middle\" x=\"238.270625\" y=\"137.44\" transform=\"rotate(-90, 238.270625, 137.44)\">Cosine similarity ϕ</text>\n",
       "    </g>\n",
       "   </g>\n",
       "   <g id=\"LineCollection_1\"/>\n",
       "   <g id=\"patch_9\">\n",
       "    <path d=\"M 203.349048 220.449524  L 207.499524 220.449524  L 211.65 220.449524  L 211.65 54.430476  L 207.499524 54.430476  L 203.349048 54.430476  L 203.349048 220.449524  z \" style=\"fill: none; stroke: #000000; stroke-width: 0.8; stroke-linejoin: miter; stroke-linecap: square\"/>\n",
       "   </g>\n",
       "  </g>\n",
       " </g>\n",
       " <defs>\n",
       "  <clipPath id=\"p638c349da8\">\n",
       "   <rect x=\"33.73\" y=\"54.430476\" width=\"166.019048\" height=\"166.019048\"/>\n",
       "  </clipPath>\n",
       "  <clipPath id=\"p876a23d90a\">\n",
       "   <rect x=\"203.349048\" y=\"54.430476\" width=\"8.300952\" height=\"166.019048\"/>\n",
       "  </clipPath>\n",
       " </defs>\n",
       "</svg>"
      ],
      "text/plain": [
       "<IPython.core.display.SVG object>"
      ]
     },
     "metadata": {},
     "output_type": "display_data"
    }
   ],
   "source": [
    "tools_plot.plot_similarity_self_2d(similarities_test,\n",
    "                                   color_adjust=True,\n",
    "                                   lamb=0.1,\n",
    "                                   path_save=f\"{path_dst}/TN_prediciton_similarities_self.svg\")\n",
    "\n",
    "display(SVG(filename=f\"{path_dst}/TN_prediciton_similarities_self.svg\"))"
   ]
  }
 ],
 "metadata": {
  "kernelspec": {
   "display_name": "Python 3 (ipykernel)",
   "language": "python",
   "name": "python3"
  },
  "language_info": {
   "codemirror_mode": {
    "name": "ipython",
    "version": 3
   },
   "file_extension": ".py",
   "mimetype": "text/x-python",
   "name": "python",
   "nbconvert_exporter": "python",
   "pygments_lexer": "ipython3",
   "version": "3.9.7"
  }
 },
 "nbformat": 4,
 "nbformat_minor": 5
}
