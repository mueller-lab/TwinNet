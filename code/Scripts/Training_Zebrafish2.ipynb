{
 "cells": [
  {
   "cell_type": "markdown",
   "id": "74e01d82",
   "metadata": {},
   "source": [
    "# Training of a Twin Network model: Zebrafish (Danio rerio)\n",
    "Training with differently sorted datasets. This training script uses image tuplets for preparation of image triplets for Twin Network training. Rotated anchor images are used in the same triplets as positive images."
   ]
  },
  {
   "cell_type": "markdown",
   "id": "bef446b2",
   "metadata": {},
   "source": [
    "# Table of Contents\n",
    "* [General](#first-bullet)\n",
    "* [Load dataset](#second-bullet)\n",
    "* [Load model](#third-bullet)\n",
    "* [Training](#fourth-bullet)"
   ]
  },
  {
   "cell_type": "markdown",
   "id": "c3d7215f",
   "metadata": {},
   "source": [
    "## General <a class=\"anchor\" id=\"first-bullet\"></a>"
   ]
  },
  {
   "cell_type": "markdown",
   "id": "04bb4f16",
   "metadata": {},
   "source": [
    "General imports and class definitions"
   ]
  },
  {
   "cell_type": "code",
   "execution_count": null,
   "id": "fec8b830",
   "metadata": {},
   "outputs": [],
   "source": [
    "%load_ext autoreload\n",
    "%autoreload 2"
   ]
  },
  {
   "cell_type": "markdown",
   "id": "fa4dbde2",
   "metadata": {},
   "source": [
    "Import Python packages"
   ]
  },
  {
   "cell_type": "code",
   "execution_count": null,
   "id": "dea5cbfb",
   "metadata": {},
   "outputs": [],
   "source": [
    "import datetime\n",
    "import os\n",
    "from pathlib import Path\n",
    "import tensorflow as tf\n",
    "\n",
    "from twinnet_tools.tnconfig import ProjectConfig\n",
    "from twinnet_tools.tnmodel import TNToolsModel, TNToolsNetwork\n",
    "from twinnet_tools.tntraining_tuplet import TNToolsTrainingTupletsDataset, TNToolsTrainingTupletsImages"
   ]
  },
  {
   "cell_type": "markdown",
   "id": "95a91668",
   "metadata": {},
   "source": [
    "Load config file and paths from config file"
   ]
  },
  {
   "cell_type": "code",
   "execution_count": null,
   "id": "37bc34e0",
   "metadata": {},
   "outputs": [],
   "source": [
    "config = ProjectConfig(\"twinnet_config\")"
   ]
  },
  {
   "cell_type": "code",
   "execution_count": null,
   "id": "01994707",
   "metadata": {},
   "outputs": [],
   "source": [
    "config_paths_script = config.json[\"TrainingZebrafish2\"]\n",
    "path_src_data_train_json = config_paths_script[\"path_src_data_train_json\"]\n",
    "dir_data_dst = config_paths_script[\"dir_data_dst\"]"
   ]
  },
  {
   "cell_type": "markdown",
   "id": "762d3843",
   "metadata": {},
   "source": [
    "Prepare paths to save outputs to"
   ]
  },
  {
   "cell_type": "code",
   "execution_count": null,
   "id": "55f9283c",
   "metadata": {},
   "outputs": [],
   "source": [
    "modelId=\"model1\"\n",
    "\n",
    "# Output path\n",
    "outFolder = f\"{dir_data_dst}/{modelId}\"\n",
    "\n",
    "if not os.path.exists(outFolder):\n",
    "    os.makedirs(outFolder)"
   ]
  },
  {
   "cell_type": "markdown",
   "id": "4bdb6970",
   "metadata": {},
   "source": [
    "Make tool instances"
   ]
  },
  {
   "cell_type": "code",
   "execution_count": null,
   "id": "98e9cc85",
   "metadata": {},
   "outputs": [],
   "source": [
    "img_height, img_width = 224, 224 \n",
    "img_height_min, img_width_min = 300, 300\n",
    "tools_dataset = TNToolsTrainingTupletsDataset(img_height,\n",
    "                                              img_width,\n",
    "                                              img_height_min,\n",
    "                                              img_width_min)\n",
    "tools_images = TNToolsTrainingTupletsImages(img_height,\n",
    "                                            img_width,\n",
    "                                            img_height_min,\n",
    "                                            img_width_min)\n",
    "\n",
    "tools_network = TNToolsNetwork()"
   ]
  },
  {
   "cell_type": "markdown",
   "id": "80c6b71e",
   "metadata": {},
   "source": [
    "Training parameters"
   ]
  },
  {
   "cell_type": "code",
   "execution_count": null,
   "id": "34632f3e",
   "metadata": {},
   "outputs": [],
   "source": [
    "batchSize = 5\n",
    "image_count = 1000000\n",
    "keys_include = [\"normal_bright_complete\"]\n",
    "\n",
    "split_train = 0.8\n",
    "num_train = round(image_count * split_train)\n",
    "num_test = image_count - num_train"
   ]
  },
  {
   "cell_type": "markdown",
   "id": "9052bf80",
   "metadata": {},
   "source": [
    "## Load dataset <a class=\"anchor\" id=\"second-bullet\"></a>"
   ]
  },
  {
   "cell_type": "markdown",
   "id": "7530f2e2",
   "metadata": {},
   "source": [
    "Sort image paths to image triplets and make datasets"
   ]
  },
  {
   "cell_type": "code",
   "execution_count": null,
   "id": "093e9f65",
   "metadata": {
    "scrolled": true
   },
   "outputs": [],
   "source": [
    "dataset = tools_dataset(path_src_data_train_json,\n",
    "                        keys_include,\n",
    "                        image_count)"
   ]
  },
  {
   "cell_type": "code",
   "execution_count": null,
   "id": "6536899d",
   "metadata": {},
   "outputs": [],
   "source": [
    "dataset2 = dataset\n",
    "dataset2 = dataset2.shuffle(buffer_size=1024)\n",
    "dataset2 = dataset2.map(tools_images.images_parse_fn)\n",
    "\n",
    "train_dataset = dataset2.take(num_train)\n",
    "val_dataset = dataset2.skip(num_test)\n",
    "\n",
    "train_dataset = train_dataset.batch(batchSize, drop_remainder=False)\n",
    "train_dataset = train_dataset.prefetch(8)\n",
    "\n",
    "val_dataset = val_dataset.batch(batchSize, drop_remainder=False)\n",
    "val_dataset = val_dataset.prefetch(8)\n",
    "\n",
    "print(train_dataset.element_spec)"
   ]
  },
  {
   "cell_type": "code",
   "execution_count": null,
   "id": "7d459961",
   "metadata": {
    "scrolled": true
   },
   "outputs": [],
   "source": [
    "tools_images.visualize(\n",
    "    *list(dataset2.take(3).as_numpy_iterator())\n",
    ")"
   ]
  },
  {
   "cell_type": "markdown",
   "id": "2ee29923",
   "metadata": {},
   "source": [
    "## Load model <a class=\"anchor\" id=\"third-bullet\"></a>"
   ]
  },
  {
   "cell_type": "markdown",
   "id": "70ef5dc9",
   "metadata": {},
   "source": [
    "Define model"
   ]
  },
  {
   "cell_type": "code",
   "execution_count": null,
   "id": "a06a20d1",
   "metadata": {},
   "outputs": [],
   "source": [
    "twin_network_embedding = tools_network.tn_embedding_make()\n",
    "twin_network = tools_network.tn_network_resnet_make(twin_network_embedding)"
   ]
  },
  {
   "cell_type": "code",
   "execution_count": null,
   "id": "0e2d1a3b",
   "metadata": {},
   "outputs": [],
   "source": [
    "twin_network.summary()"
   ]
  },
  {
   "cell_type": "code",
   "execution_count": null,
   "id": "eb1038bb",
   "metadata": {
    "scrolled": true
   },
   "outputs": [],
   "source": [
    "twin_network_model = TNToolsModel(twin_network)"
   ]
  },
  {
   "cell_type": "markdown",
   "id": "5d991c72",
   "metadata": {},
   "source": [
    "Define callbacks"
   ]
  },
  {
   "cell_type": "code",
   "execution_count": null,
   "id": "b17ec9c5",
   "metadata": {},
   "outputs": [],
   "source": [
    "checkpoint_filepath = outFolder+'/checkpoints/'"
   ]
  },
  {
   "cell_type": "code",
   "execution_count": null,
   "id": "c1bd853c",
   "metadata": {},
   "outputs": [],
   "source": [
    "early_stopping = tf.keras.callbacks.EarlyStopping(\n",
    "    monitor='val_loss', patience=5,\n",
    ")\n",
    "\n",
    "\n",
    "model_checkpoint_callback = tf.keras.callbacks.ModelCheckpoint(\n",
    "    filepath=checkpoint_filepath,\n",
    "    save_weights_only=True,\n",
    "    monitor='val_loss',\n",
    "    mode='min',\n",
    "    save_best_only=True)\n"
   ]
  },
  {
   "cell_type": "code",
   "execution_count": null,
   "id": "799012bd",
   "metadata": {},
   "outputs": [],
   "source": [
    "log_dir = outFolder+\"logs/fit/\" + datetime.datetime.now().strftime(\"%Y%m%d-%H%M%S\")\n",
    "tensorboard_callback = tf.keras.callbacks.TensorBoard(log_dir=log_dir, \n",
    "                                                      histogram_freq=1)"
   ]
  },
  {
   "cell_type": "markdown",
   "id": "69ee2e51",
   "metadata": {},
   "source": [
    "Compile model"
   ]
  },
  {
   "cell_type": "code",
   "execution_count": null,
   "id": "15828bdf",
   "metadata": {},
   "outputs": [],
   "source": [
    "twin_network_model.compile(optimizer=tf.keras.optimizers.Adam(0.0001), \n",
    "                           metrics=['accuracy'])"
   ]
  },
  {
   "cell_type": "markdown",
   "id": "bf07872d",
   "metadata": {},
   "source": [
    "## Training <a class=\"anchor\" id=\"fourth-bullet\"></a>"
   ]
  },
  {
   "cell_type": "markdown",
   "id": "b32629af",
   "metadata": {},
   "source": [
    "Run training:\n",
    "- 1000000 image triplets per dataset\n",
    "- 1 run\n",
    "- 10 epochs per dataset"
   ]
  },
  {
   "cell_type": "code",
   "execution_count": null,
   "id": "b12f02b0",
   "metadata": {},
   "outputs": [],
   "source": [
    "history = twin_network_model.fit(train_dataset, \n",
    "                                 epochs=10, \n",
    "                                 callbacks=[early_stopping, \n",
    "                                            model_checkpoint_callback, \n",
    "                                            tensorboard_callback], \n",
    "                                 validation_data=val_dataset)"
   ]
  },
  {
   "cell_type": "code",
   "execution_count": null,
   "id": "c8a2217c",
   "metadata": {},
   "outputs": [],
   "source": [
    "twin_network_model.compute_output_shape(\n",
    "    input_shape=((None, 224,224,3), \n",
    "                 (None, 224,224,3),\n",
    "                 (None, 224,224,3))\n",
    ")"
   ]
  },
  {
   "cell_type": "code",
   "execution_count": null,
   "id": "6b85251b",
   "metadata": {},
   "outputs": [],
   "source": [
    "embedding.save(outFolder+'/dir_dst_model_epochs_10/')\n",
    "embedding.save_weights(outFolder+'/dir_dst_model_epochs_10_weights/')"
   ]
  }
 ],
 "metadata": {
  "kernelspec": {
   "display_name": "Python 3 (ipykernel)",
   "language": "python",
   "name": "python3"
  },
  "language_info": {
   "codemirror_mode": {
    "name": "ipython",
    "version": 3
   },
   "file_extension": ".py",
   "mimetype": "text/x-python",
   "name": "python",
   "nbconvert_exporter": "python",
   "pygments_lexer": "ipython3",
   "version": "3.9.7"
  }
 },
 "nbformat": 4,
 "nbformat_minor": 5
}
