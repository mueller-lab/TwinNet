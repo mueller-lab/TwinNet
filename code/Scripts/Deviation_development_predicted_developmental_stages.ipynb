{
 "cells": [
  {
   "cell_type": "markdown",
   "id": "3d38a669",
   "metadata": {},
   "source": [
    "# Detection of deviation from normal development based on predicted developmental stages"
   ]
  },
  {
   "cell_type": "markdown",
   "id": "fc0eb452",
   "metadata": {},
   "source": [
    "# Table of Contents\n",
    "* [General](#first-bullet)\n",
    "* [Load paths](#second-bullet)\n",
    "* [Load model](#third-bullet)\n",
    "* [Calculate embeddings](#fourth-bullet)\n",
    "* [(Optional) Save and load embeddings](#fifth-bullet)\n",
    "* [Calculate and save similarities](#sixth-bullet)"
   ]
  },
  {
   "cell_type": "markdown",
   "id": "f4e5eb03",
   "metadata": {},
   "source": [
    "## General <a class=\"anchor\" id=\"first-bullet\"></a>"
   ]
  },
  {
   "cell_type": "markdown",
   "id": "d5771994",
   "metadata": {},
   "source": [
    "General imports and class definitions"
   ]
  },
  {
   "cell_type": "code",
   "execution_count": null,
   "id": "f774ee0c",
   "metadata": {},
   "outputs": [],
   "source": [
    "%load_ext autoreload\n",
    "%autoreload 2"
   ]
  },
  {
   "cell_type": "markdown",
   "id": "33f4b882",
   "metadata": {},
   "source": [
    "Load paths from config file"
   ]
  },
  {
   "cell_type": "code",
   "execution_count": null,
   "id": "09b4b31a",
   "metadata": {},
   "outputs": [],
   "source": [
    "from twinnet_tools.tnconfig import ProjectConfig\n",
    "\n",
    "config = ProjectConfig(\"twinnet_config\")"
   ]
  },
  {
   "cell_type": "code",
   "execution_count": null,
   "id": "a7a884e1",
   "metadata": {},
   "outputs": [],
   "source": [
    "dir_root_scripts = config.json[\"dir_scripts\"]\n",
    "dir_data = config.json[\"dir_data\"]\n",
    "path_model_zebrafish = config.json[\"dir_model_zebrafish_original\"]\n",
    "paths_reference_src_images = config.json[\"path_json_reference_src_imgs_2\"]\n",
    "\n",
    "config_paths_script = config.json[\"Deviation_development_predicted_developmental_stages\"]\n",
    "paths_test_src_images = config_paths_script[\"path_src_data_test_json\"]\n",
    "dir_dst = config_paths_script[\"dir_data_dst\"]"
   ]
  },
  {
   "cell_type": "markdown",
   "id": "607c7266",
   "metadata": {},
   "source": [
    "Import Python packages"
   ]
  },
  {
   "cell_type": "code",
   "execution_count": null,
   "id": "76360d2d",
   "metadata": {
    "scrolled": true
   },
   "outputs": [],
   "source": [
    "import glob\n",
    "import matplotlib as mpl\n",
    "import pandas as pd\n",
    "import sys\n",
    "\n",
    "sys.path.append(dir_root_scripts)\n",
    "from twinnet_tools.tngeneral import TNToolsGeneral\n",
    "from twinnet_tools.tnmodel import TNToolsNetwork\n",
    "from twinnet_tools.tnarrow import TNToolsArrow\n",
    "from twinnet_tools.tnarroweval import TNToolsArrowEval\n",
    "\n",
    "from pathlib import Path"
   ]
  },
  {
   "cell_type": "markdown",
   "id": "50b6684c",
   "metadata": {},
   "source": [
    "Prepare class instances"
   ]
  },
  {
   "cell_type": "code",
   "execution_count": null,
   "id": "3533b5fe",
   "metadata": {},
   "outputs": [],
   "source": [
    "tools_general = TNToolsGeneral()\n",
    "tools_model = TNToolsNetwork()\n",
    "tools_arrow = TNToolsArrow()\n",
    "tools_arroweval = TNToolsArrowEval()"
   ]
  },
  {
   "cell_type": "markdown",
   "id": "ef1db66a",
   "metadata": {},
   "source": [
    "Adjust matplotlib parameters to save plots as .svg files."
   ]
  },
  {
   "cell_type": "code",
   "execution_count": null,
   "id": "dd88879f",
   "metadata": {},
   "outputs": [],
   "source": [
    "new_rc_params = {'text.usetex': False,\n",
    "                'svg.fonttype': 'none'}\n",
    "mpl.rcParams.update(new_rc_params)"
   ]
  },
  {
   "cell_type": "markdown",
   "id": "9672d0b4",
   "metadata": {},
   "source": [
    "## Load paths <a class=\"anchor\" id=\"second-bullet\"></a>"
   ]
  },
  {
   "cell_type": "markdown",
   "id": "ad6ce97e",
   "metadata": {},
   "source": [
    "Define paths"
   ]
  },
  {
   "cell_type": "code",
   "execution_count": null,
   "id": "2efc440a",
   "metadata": {},
   "outputs": [],
   "source": [
    "dir_dst_path = Path( dir_dst )\n",
    "dir_dst_path.mkdir(parents=True, exist_ok=True)"
   ]
  },
  {
   "cell_type": "markdown",
   "id": "2a8991a1",
   "metadata": {},
   "source": [
    "Load reference data paths"
   ]
  },
  {
   "cell_type": "code",
   "execution_count": null,
   "id": "abdc1574",
   "metadata": {},
   "outputs": [],
   "source": [
    "paths_reference_dst_embeddings = f\"{dir_dst}/embeddings_reference\"\n",
    "\n",
    "paths_reference_dst_embeddings_path = Path( paths_reference_dst_embeddings )\n",
    "paths_reference_dst_embeddings_path.mkdir(parents=True, exist_ok=True)"
   ]
  },
  {
   "cell_type": "code",
   "execution_count": null,
   "id": "9fd6e2af",
   "metadata": {},
   "outputs": [],
   "source": [
    "paths_anchor = tools_general.fn_json_load(paths_reference_src_images)\n",
    "paths_anchor_1 = paths_anchor[\"paths_anchor_1\"]\n",
    "paths_anchor_2 = paths_anchor[\"paths_anchor_2\"]\n",
    "paths_anchor_3 = paths_anchor[\"paths_anchor_3\"]\n",
    "\n",
    "# Adjust paths to directory where data is stored\n",
    "paths_anchor_1 = [f\"{dir_data}{p[1:]}\".replace(\"\\\\\", \"/\").replace(\"//\", \"/\")\n",
    "                  for p in paths_anchor_1]\n",
    "paths_anchor_2 = [f\"{dir_data}{p[1:]}\".replace(\"\\\\\", \"/\").replace(\"//\", \"/\")\n",
    "                  for p in paths_anchor_2]\n",
    "paths_anchor_3 = [f\"{dir_data}{p[1:]}\".replace(\"\\\\\", \"/\").replace(\"//\", \"/\")\n",
    "                  for p in paths_anchor_3]"
   ]
  },
  {
   "cell_type": "markdown",
   "id": "aa7140a8",
   "metadata": {},
   "source": [
    "Load test data paths"
   ]
  },
  {
   "cell_type": "code",
   "execution_count": null,
   "id": "fba99d6f",
   "metadata": {},
   "outputs": [],
   "source": [
    "paths_test_dst_embeddings = f\"{dir_dst}/embeddings_test\""
   ]
  },
  {
   "cell_type": "code",
   "execution_count": null,
   "id": "8ad9d7d6",
   "metadata": {},
   "outputs": [],
   "source": [
    "dirs_embryos_test = tools_arrow.paths_embryos_from_json_fn(paths_test_src_images, dir_data)"
   ]
  },
  {
   "cell_type": "markdown",
   "id": "83b8fd0b",
   "metadata": {},
   "source": [
    "Set output path for similarities"
   ]
  },
  {
   "cell_type": "code",
   "execution_count": null,
   "id": "a9165866",
   "metadata": {},
   "outputs": [],
   "source": [
    "dir_dst_similarities = f\"{dir_dst}/similarities/\".replace(\"\\\\\", \"/\").replace(\"//\", \"/\")\n",
    "\n",
    "dir_dst_similarities_path = Path( dir_dst_similarities )\n",
    "dir_dst_similarities_path.mkdir(parents=True, exist_ok=True)"
   ]
  },
  {
   "cell_type": "markdown",
   "id": "d64d793f",
   "metadata": {},
   "source": [
    "Define parameters"
   ]
  },
  {
   "cell_type": "code",
   "execution_count": null,
   "id": "cf29ec32",
   "metadata": {},
   "outputs": [],
   "source": [
    "limit_timepoints = 250"
   ]
  },
  {
   "cell_type": "markdown",
   "id": "829679b6",
   "metadata": {},
   "source": [
    "## Load model <a class=\"anchor\" id=\"third-bullet\"></a>"
   ]
  },
  {
   "cell_type": "code",
   "execution_count": null,
   "id": "e6009060",
   "metadata": {
    "scrolled": true
   },
   "outputs": [],
   "source": [
    "tn_model_embedding = tools_model.tn_embedding_load(path_model_zebrafish)"
   ]
  },
  {
   "cell_type": "markdown",
   "id": "db5f9e69",
   "metadata": {},
   "source": [
    "## Calculate embeddings <a class=\"anchor\" id=\"fourth-bullet\"></a>"
   ]
  },
  {
   "cell_type": "markdown",
   "id": "76070343",
   "metadata": {},
   "source": [
    "Calculate reference embeddings"
   ]
  },
  {
   "cell_type": "code",
   "execution_count": null,
   "id": "c5618923",
   "metadata": {},
   "outputs": [],
   "source": [
    "embeddings_1, embeddings_2, embeddings_3 = tools_arroweval.embeddings_reference_get(\n",
    "    tn_model_embedding,\n",
    "    paths_anchor_1,\n",
    "    paths_anchor_2,\n",
    "    paths_anchor_3\n",
    ")"
   ]
  },
  {
   "cell_type": "markdown",
   "id": "9f7862fd",
   "metadata": {},
   "source": [
    "Calculate test embeddings"
   ]
  },
  {
   "cell_type": "code",
   "execution_count": null,
   "id": "c6800f38",
   "metadata": {
    "scrolled": false
   },
   "outputs": [],
   "source": [
    "embeddings_test = tools_arroweval.embeddings_test_get(tn_model_embedding, dirs_embryos_test)"
   ]
  },
  {
   "cell_type": "markdown",
   "id": "4bbd992a",
   "metadata": {},
   "source": [
    "## Save and load embeddings <a class=\"anchor\" id=\"fifth-bullet\"></a>"
   ]
  },
  {
   "cell_type": "markdown",
   "id": "beca3026",
   "metadata": {},
   "source": [
    "Save reference embeddings"
   ]
  },
  {
   "cell_type": "code",
   "execution_count": null,
   "id": "1188d899",
   "metadata": {},
   "outputs": [],
   "source": [
    "e1_path = Path( f\"{paths_reference_dst_embeddings}/embeddings_1/\" )\n",
    "e1_path.mkdir(parents=True, exist_ok=True)\n",
    "\n",
    "\n",
    "tools_arrow.embeddings_save(embeddings_1, f\"{paths_reference_dst_embeddings}/embeddings_1/\")"
   ]
  },
  {
   "cell_type": "code",
   "execution_count": null,
   "id": "9dd1dc93",
   "metadata": {},
   "outputs": [],
   "source": [
    "e2_path = Path( f\"{paths_reference_dst_embeddings}/embeddings_2/\" )\n",
    "e2_path.mkdir(parents=True, exist_ok=True)\n",
    "\n",
    "tools_arrow.embeddings_save(embeddings_2, f\"{paths_reference_dst_embeddings}/embeddings_2/\")"
   ]
  },
  {
   "cell_type": "code",
   "execution_count": null,
   "id": "7f7283b8",
   "metadata": {},
   "outputs": [],
   "source": [
    "e3_path = Path( f\"{paths_reference_dst_embeddings}/embeddings_3/\" )\n",
    "e3_path.mkdir(parents=True, exist_ok=True)\n",
    "\n",
    "tools_arrow.embeddings_save(embeddings_3, f\"{paths_reference_dst_embeddings}/embeddings_3/\")"
   ]
  },
  {
   "cell_type": "markdown",
   "id": "e0f10814",
   "metadata": {},
   "source": [
    "Load reference embeddings"
   ]
  },
  {
   "cell_type": "code",
   "execution_count": null,
   "id": "69f55fc6",
   "metadata": {},
   "outputs": [],
   "source": [
    "embeddings_1 = tools_arrow.embeddings_load(f\"{paths_reference_dst_embeddings}/embeddings_1/\")"
   ]
  },
  {
   "cell_type": "code",
   "execution_count": null,
   "id": "3f4f0764",
   "metadata": {},
   "outputs": [],
   "source": [
    "embeddings_2 = tools_arrow.embeddings_load(f\"{paths_reference_dst_embeddings}/embeddings_2/\")"
   ]
  },
  {
   "cell_type": "code",
   "execution_count": null,
   "id": "829e3f05",
   "metadata": {},
   "outputs": [],
   "source": [
    "embeddings_3 = tools_arrow.embeddings_load(f\"{paths_reference_dst_embeddings}/embeddings_3/\")"
   ]
  },
  {
   "cell_type": "markdown",
   "id": "b039d73a",
   "metadata": {},
   "source": [
    "Save test embeddings"
   ]
  },
  {
   "cell_type": "code",
   "execution_count": null,
   "id": "452aa731",
   "metadata": {},
   "outputs": [],
   "source": [
    "tools_arrow.embeddings_test_save(embeddings_test, paths_test_dst_embeddings)"
   ]
  },
  {
   "cell_type": "markdown",
   "id": "27999692",
   "metadata": {},
   "source": [
    "Load test embeddings"
   ]
  },
  {
   "cell_type": "code",
   "execution_count": null,
   "id": "5ae0757e",
   "metadata": {},
   "outputs": [],
   "source": [
    "embeddings_test = tools_arrow.embeddings_test_load(paths_test_dst_embeddings)"
   ]
  },
  {
   "cell_type": "markdown",
   "id": "de63b3d9",
   "metadata": {},
   "source": [
    "## Calculate and save similarities <a class=\"anchor\" id=\"sixth-bullet\"></a>"
   ]
  },
  {
   "cell_type": "code",
   "execution_count": null,
   "id": "827195e6",
   "metadata": {},
   "outputs": [],
   "source": [
    "tools_arrow.similarities_calc(embeddings_1,\n",
    "                              embeddings_2,\n",
    "                              embeddings_3,\n",
    "                              embeddings_test,\n",
    "                              dir_dst_similarities,\n",
    "                              limit_indices=250)"
   ]
  },
  {
   "cell_type": "code",
   "execution_count": null,
   "id": "7f38f9ae",
   "metadata": {},
   "outputs": [],
   "source": []
  }
 ],
 "metadata": {
  "kernelspec": {
   "display_name": "Python 3 (ipykernel)",
   "language": "python",
   "name": "python3"
  },
  "language_info": {
   "codemirror_mode": {
    "name": "ipython",
    "version": 3
   },
   "file_extension": ".py",
   "mimetype": "text/x-python",
   "name": "python",
   "nbconvert_exporter": "python",
   "pygments_lexer": "ipython3",
   "version": "3.8.5"
  }
 },
 "nbformat": 4,
 "nbformat_minor": 5
}
