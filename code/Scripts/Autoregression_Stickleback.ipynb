{
 "cells": [
  {
   "cell_type": "markdown",
   "id": "3d38a669",
   "metadata": {},
   "source": [
    "# Calculation of self-similarity curves: Stickleback (Gasterosteus aculeatus)"
   ]
  },
  {
   "cell_type": "markdown",
   "id": "fc0eb452",
   "metadata": {},
   "source": [
    "# Table of Contents\n",
    "* [General](#first-bullet)\n",
    "* [Load paths](#second-bullet)\n",
    "* [Load model](#third-bullet)\n",
    "* [Calculate embeddings and similarities](#fourth-bullet)\n",
    "* [Plot similarities as 2D matrix](#fifth-bullet)"
   ]
  },
  {
   "cell_type": "markdown",
   "id": "f4e5eb03",
   "metadata": {},
   "source": [
    "## General <a class=\"anchor\" id=\"first-bullet\"></a>"
   ]
  },
  {
   "cell_type": "markdown",
   "id": "d5771994",
   "metadata": {},
   "source": [
    "General imports and class definitions"
   ]
  },
  {
   "cell_type": "code",
   "execution_count": null,
   "id": "f774ee0c",
   "metadata": {},
   "outputs": [],
   "source": [
    "%load_ext autoreload\n",
    "%autoreload 2"
   ]
  },
  {
   "cell_type": "markdown",
   "id": "8ce196c5",
   "metadata": {},
   "source": [
    "Import Python packages"
   ]
  },
  {
   "cell_type": "code",
   "execution_count": null,
   "id": "f950309c",
   "metadata": {},
   "outputs": [],
   "source": [
    "import glob\n",
    "from IPython.display import HTML, Image,SVG,display\n",
    "import matplotlib as mpl\n",
    "import pandas as pd\n",
    "from pathlib import Path\n",
    "import sys\n",
    "\n",
    "from twinnet_tools.tnautoregression import TNToolsAutoregression\n",
    "from twinnet_tools.tngeneral import TNToolsGeneral\n",
    "from twinnet_tools.tninference import TNToolsEmbeddings\n",
    "from twinnet_tools.tninference import TNToolsImages\n",
    "from twinnet_tools.tninference import TNToolsSimilarities\n",
    "from twinnet_tools.tnmodel import TNToolsNetwork\n",
    "from twinnet_tools.tnplot import TNToolsPlot\n",
    "\n",
    "from twinnet_tools.tnconfig import ProjectConfig"
   ]
  },
  {
   "cell_type": "markdown",
   "id": "d3fdb9ae",
   "metadata": {},
   "source": [
    "Load config file and paths from config file"
   ]
  },
  {
   "cell_type": "code",
   "execution_count": null,
   "id": "523e3b98",
   "metadata": {},
   "outputs": [],
   "source": [
    "config = ProjectConfig(\"twinnet_config\")"
   ]
  },
  {
   "cell_type": "code",
   "execution_count": null,
   "id": "fb03a5d9",
   "metadata": {},
   "outputs": [],
   "source": [
    "path_model_stickleback = config.json[\"path_model_stickleback\"]\n",
    "\n",
    "config_paths_script = config.json[\"Autoregression_stickleback\"]\n",
    "dir_data = config_paths_script[\"dir_data_src\"]\n",
    "path_src_data_test_json = config_paths_script[\"path_src_data_test_json\"]\n",
    "path_dst = config_paths_script[\"dir_data_dst\"]"
   ]
  },
  {
   "cell_type": "markdown",
   "id": "d29b61fe",
   "metadata": {},
   "source": [
    "Prepare class instances"
   ]
  },
  {
   "cell_type": "code",
   "execution_count": null,
   "id": "2338b21d",
   "metadata": {},
   "outputs": [],
   "source": [
    "tools_autoregression = TNToolsAutoregression()\n",
    "tools_general = TNToolsGeneral()\n",
    "tools_embeddings = TNToolsEmbeddings(size_img=224, size_img_min=300)\n",
    "tools_model = TNToolsNetwork()\n",
    "tools_similarities = TNToolsSimilarities()\n",
    "tools_plot = TNToolsPlot()"
   ]
  },
  {
   "cell_type": "markdown",
   "id": "9d232d0c",
   "metadata": {},
   "source": [
    "Adjust matplotlib parameters to save plots as .svg files."
   ]
  },
  {
   "cell_type": "code",
   "execution_count": null,
   "id": "d79ae21b",
   "metadata": {},
   "outputs": [],
   "source": [
    "new_rc_params = {'text.usetex': False,\n",
    "                'svg.fonttype': 'none'}\n",
    "mpl.rcParams.update(new_rc_params)"
   ]
  },
  {
   "cell_type": "markdown",
   "id": "2bda54c4",
   "metadata": {},
   "source": [
    "## Load paths <a class=\"anchor\" id=\"second-bullet\"></a>"
   ]
  },
  {
   "cell_type": "markdown",
   "id": "dfee7a71",
   "metadata": {},
   "source": [
    "Load test data paths"
   ]
  },
  {
   "cell_type": "code",
   "execution_count": null,
   "id": "e46db25b",
   "metadata": {},
   "outputs": [],
   "source": [
    "embryos_test = [f\"{dir_data}/{p}/\".replace('//', '/').replace('./', '') \n",
    "                for p in sorted(tools_general.fn_json_load(\n",
    "                    path_src_data_test_json)['normal_bright_complete'])\n",
    "               ]"
   ]
  },
  {
   "cell_type": "code",
   "execution_count": null,
   "id": "ca48b434",
   "metadata": {},
   "outputs": [],
   "source": [
    "embryo_test = embryos_test[0]"
   ]
  },
  {
   "cell_type": "markdown",
   "id": "3ba12e3c",
   "metadata": {},
   "source": [
    "Specify directory to outputs"
   ]
  },
  {
   "cell_type": "code",
   "execution_count": null,
   "id": "876b6416",
   "metadata": {},
   "outputs": [],
   "source": [
    "dir_dst_similarities = f\"{path_dst}/similarities\"\n",
    "\n",
    "dir_dst_similarities_path = Path( dir_dst_similarities )\n",
    "dir_dst_similarities_path.mkdir(parents=True, exist_ok=True)"
   ]
  },
  {
   "cell_type": "markdown",
   "id": "5691a241",
   "metadata": {},
   "source": [
    "## Load model <a class=\"anchor\" id=\"third-bullet\"></a>"
   ]
  },
  {
   "cell_type": "code",
   "execution_count": null,
   "id": "4dc6b97f",
   "metadata": {
    "scrolled": true
   },
   "outputs": [],
   "source": [
    "tn_model_embedding = tools_model.tn_embedding_load(path_model_stickleback)"
   ]
  },
  {
   "cell_type": "markdown",
   "id": "967e4f57",
   "metadata": {},
   "source": [
    "## Calculate embeddings and similarities <a class=\"anchor\" id=\"fourth-bullet\"></a>"
   ]
  },
  {
   "cell_type": "markdown",
   "id": "392cc524",
   "metadata": {},
   "source": [
    "Load image paths"
   ]
  },
  {
   "cell_type": "code",
   "execution_count": null,
   "id": "b853ed8d",
   "metadata": {},
   "outputs": [],
   "source": [
    "paths_imgs = [p.replace(\"\\\\\", \"/\") \n",
    "              for p in\n",
    "              sorted(glob.glob(f\"{embryo_test}/*.tif\"))]"
   ]
  },
  {
   "cell_type": "markdown",
   "id": "c8b9298c",
   "metadata": {},
   "source": [
    "Load images and calculate embeddings"
   ]
  },
  {
   "cell_type": "code",
   "execution_count": null,
   "id": "80a27c35",
   "metadata": {},
   "outputs": [],
   "source": [
    "embeddings_test = tools_embeddings.list_to_embeddings(paths_imgs, tn_model_embedding)"
   ]
  },
  {
   "cell_type": "markdown",
   "id": "da0c7a6e",
   "metadata": {},
   "source": [
    "Calculate similarities"
   ]
  },
  {
   "cell_type": "code",
   "execution_count": null,
   "id": "af1accef",
   "metadata": {},
   "outputs": [],
   "source": [
    "similarities_test = tools_similarities.cosine_similarities_self(embeddings_test)"
   ]
  },
  {
   "cell_type": "markdown",
   "id": "d0564de6",
   "metadata": {},
   "source": [
    "Save similarities"
   ]
  },
  {
   "cell_type": "code",
   "execution_count": null,
   "id": "c279a2b0",
   "metadata": {},
   "outputs": [],
   "source": [
    "num_imgs = len(paths_imgs)\n",
    "\n",
    "similarities_test_array = tools_autoregression.fn_2d_sims_to_arrays(\n",
    "    similarities_test,\n",
    "    num_imgs\n",
    ")\n",
    "\n",
    "tools_general.fn_mat_write({\"similarities_test\": similarities_test_array},\n",
    "                           f\"{dir_dst_similarities}/TN_prediction_similarities.mat\")"
   ]
  },
  {
   "cell_type": "markdown",
   "id": "bd256e11",
   "metadata": {},
   "source": [
    "## Plot similarities as 2D matrix <a class=\"anchor\" id=\"fifth-bullet\"></a>"
   ]
  },
  {
   "cell_type": "code",
   "execution_count": null,
   "id": "5630b8d5",
   "metadata": {},
   "outputs": [],
   "source": [
    "tools_plot.plot_similarity_self_2d(similarities_test,\n",
    "                                   color_adjust=True,\n",
    "                                   lamb=0.1,\n",
    "                                   path_save=f\"{path_dst}/TN_prediciton_similarities_self.svg\")\n",
    "\n",
    "display(SVG(filename=f\"{path_dst}/TN_prediciton_similarities_self.svg\"))"
   ]
  }
 ],
 "metadata": {
  "kernelspec": {
   "display_name": "Python 3 (ipykernel)",
   "language": "python",
   "name": "python3"
  },
  "language_info": {
   "codemirror_mode": {
    "name": "ipython",
    "version": 3
   },
   "file_extension": ".py",
   "mimetype": "text/x-python",
   "name": "python",
   "nbconvert_exporter": "python",
   "pygments_lexer": "ipython3",
   "version": "3.9.7"
  }
 },
 "nbformat": 4,
 "nbformat_minor": 5
}
