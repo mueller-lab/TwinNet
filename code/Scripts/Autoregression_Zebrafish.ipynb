{
 "cells": [
  {
   "cell_type": "markdown",
   "id": "3d38a669",
   "metadata": {},
   "source": [
    "# Calculation of self-similarity curves: Zebrafish (Danio rerio)"
   ]
  },
  {
   "cell_type": "markdown",
   "id": "fc0eb452",
   "metadata": {},
   "source": [
    "# Table of Contents\n",
    "* [General](#first-bullet)\n",
    "* [Load paths](#second-bullet)\n",
    "* [Load model](#third-bullet)\n",
    "* [Calculate embeddings and similarities](#fourth-bullet)\n",
    "* [Plot similarities as 2D matrix](#fifth-bullet)\n",
    "* [Plot similarities as 3D surface plot](#sixth-bullet)"
   ]
  },
  {
   "cell_type": "markdown",
   "id": "f4e5eb03",
   "metadata": {},
   "source": [
    "## General <a class=\"anchor\" id=\"first-bullet\"></a>"
   ]
  },
  {
   "cell_type": "markdown",
   "id": "d5771994",
   "metadata": {},
   "source": [
    "General imports and class definitions"
   ]
  },
  {
   "cell_type": "code",
   "execution_count": null,
   "id": "f774ee0c",
   "metadata": {},
   "outputs": [],
   "source": [
    "%load_ext autoreload\n",
    "%autoreload 2"
   ]
  },
  {
   "cell_type": "markdown",
   "id": "8ce196c5",
   "metadata": {},
   "source": [
    "Import Python packages"
   ]
  },
  {
   "cell_type": "code",
   "execution_count": null,
   "id": "f950309c",
   "metadata": {},
   "outputs": [],
   "source": [
    "import glob\n",
    "from IPython.display import HTML, Image,SVG,display\n",
    "import matplotlib as mpl\n",
    "import pandas as pd\n",
    "from pathlib import Path\n",
    "import sys\n",
    "\n",
    "from twinnet_tools.tnautoregression import TNToolsAutoregression\n",
    "from twinnet_tools.tngeneral import TNToolsGeneral\n",
    "from twinnet_tools.tninference import TNToolsEmbeddings\n",
    "from twinnet_tools.tninference import TNToolsImages\n",
    "from twinnet_tools.tninference import TNToolsSimilarities\n",
    "from twinnet_tools.tnmodel import TNToolsNetwork\n",
    "from twinnet_tools.tnplot import TNToolsPlot\n",
    "\n",
    "from twinnet_tools.tnconfig import ProjectConfig"
   ]
  },
  {
   "cell_type": "markdown",
   "id": "fca3858f",
   "metadata": {},
   "source": [
    "Load config file and paths from config file"
   ]
  },
  {
   "cell_type": "code",
   "execution_count": null,
   "id": "7cefcfa6",
   "metadata": {},
   "outputs": [],
   "source": [
    "config = ProjectConfig(\"twinnet_config\")"
   ]
  },
  {
   "cell_type": "code",
   "execution_count": null,
   "id": "d2afcf43",
   "metadata": {},
   "outputs": [],
   "source": [
    "dir_root_scripts = config.json[\"dir_scripts\"]\n",
    "path_model_zebrafish = config.json[\"dir_model_zebrafish_original\"]\n",
    "\n",
    "config_paths_script = config.json[\"Autoregression_zebrafish\"]\n",
    "dir_data = config_paths_script[\"dir_data_src\"]\n",
    "path_src_data_test_json = config_paths_script[\"path_src_data_test_json\"]\n",
    "path_dst = config_paths_script[\"dir_data_dst\"]"
   ]
  },
  {
   "cell_type": "markdown",
   "id": "0fd2c879",
   "metadata": {},
   "source": [
    "Prepare class instances"
   ]
  },
  {
   "cell_type": "code",
   "execution_count": null,
   "id": "78a8ccc7",
   "metadata": {},
   "outputs": [],
   "source": [
    "tools_autoregression = TNToolsAutoregression()\n",
    "tools_general = TNToolsGeneral()\n",
    "tools_model = TNToolsNetwork()\n",
    "tools_plot = TNToolsPlot()"
   ]
  },
  {
   "cell_type": "markdown",
   "id": "9d232d0c",
   "metadata": {},
   "source": [
    "Adjust matplotlib parameters to save plots as .svg files."
   ]
  },
  {
   "cell_type": "code",
   "execution_count": null,
   "id": "d79ae21b",
   "metadata": {},
   "outputs": [],
   "source": [
    "new_rc_params = {'text.usetex': False,\n",
    "                'svg.fonttype': 'none'}\n",
    "mpl.rcParams.update(new_rc_params)"
   ]
  },
  {
   "cell_type": "markdown",
   "id": "2bda54c4",
   "metadata": {},
   "source": [
    "## Load paths <a class=\"anchor\" id=\"second-bullet\"></a>"
   ]
  },
  {
   "cell_type": "markdown",
   "id": "dfee7a71",
   "metadata": {},
   "source": [
    "Load test data paths"
   ]
  },
  {
   "cell_type": "code",
   "execution_count": null,
   "id": "e46db25b",
   "metadata": {},
   "outputs": [],
   "source": [
    "embryos_test = [f\"{dir_data}/{p[2:]}/\".replace('//', '/').replace('./', '') \n",
    "                for p in sorted(tools_general.fn_json_load(\n",
    "                    path_src_data_test_json)['normal_bright_complete'])\n",
    "               ]"
   ]
  },
  {
   "cell_type": "code",
   "execution_count": null,
   "id": "ca48b434",
   "metadata": {},
   "outputs": [],
   "source": [
    "embryo_test = embryos_test[2]"
   ]
  },
  {
   "cell_type": "markdown",
   "id": "3ba12e3c",
   "metadata": {},
   "source": [
    "Specify directory to outputs"
   ]
  },
  {
   "cell_type": "code",
   "execution_count": null,
   "id": "876b6416",
   "metadata": {},
   "outputs": [],
   "source": [
    "dir_dst_similarities = f\"{path_dst}/similarities\"\n",
    "\n",
    "dir_dst_similarities_path = Path( dir_dst_similarities )\n",
    "dir_dst_similarities_path.mkdir(parents=True, exist_ok=True)"
   ]
  },
  {
   "cell_type": "markdown",
   "id": "5691a241",
   "metadata": {},
   "source": [
    "## Load model <a class=\"anchor\" id=\"third-bullet\"></a>"
   ]
  },
  {
   "cell_type": "code",
   "execution_count": null,
   "id": "4dc6b97f",
   "metadata": {
    "scrolled": true
   },
   "outputs": [],
   "source": [
    "tn_model_embedding = tools_model.tn_embedding_load(path_model_zebrafish)"
   ]
  },
  {
   "cell_type": "markdown",
   "id": "967e4f57",
   "metadata": {},
   "source": [
    "## Calculate embeddings and similarities <a class=\"anchor\" id=\"fourth-bullet\"></a>"
   ]
  },
  {
   "cell_type": "code",
   "execution_count": null,
   "id": "f4f0adb2",
   "metadata": {},
   "outputs": [],
   "source": [
    "similarities_test, paths_imgs = tools_autoregression.similarities_self_calculate(embryo_test, tn_model_embedding)"
   ]
  },
  {
   "cell_type": "markdown",
   "id": "09aad918",
   "metadata": {},
   "source": [
    "Save similarities"
   ]
  },
  {
   "cell_type": "code",
   "execution_count": null,
   "id": "8e01bb84",
   "metadata": {},
   "outputs": [],
   "source": [
    "num_imgs = len(paths_imgs)\n",
    "\n",
    "similarities_test_array = tools_autoregression.fn_2d_sims_to_arrays(\n",
    "    similarities_test,\n",
    "    num_imgs\n",
    ")\n",
    "\n",
    "tools_general.fn_mat_write({\"similarities_test\": similarities_test_array},\n",
    "                           f\"{dir_dst_similarities}/TN_prediction_similarities.mat\")"
   ]
  },
  {
   "cell_type": "markdown",
   "id": "bd256e11",
   "metadata": {},
   "source": [
    "## Plot similarities as 2D matrix <a class=\"anchor\" id=\"fifth-bullet\"></a>"
   ]
  },
  {
   "cell_type": "code",
   "execution_count": null,
   "id": "5630b8d5",
   "metadata": {},
   "outputs": [],
   "source": [
    "tools_plot.plot_similarity_self_2d(similarities_test,\n",
    "                                   color_adjust=True,\n",
    "                                   lamb=0.1,\n",
    "                                   path_save=f\"{path_dst}/TN_prediciton_similarities_self.svg\")\n",
    "\n",
    "display(SVG(filename=f\"{path_dst}/TN_prediciton_similarities_self.svg\"))"
   ]
  },
  {
   "cell_type": "markdown",
   "id": "ea669f21",
   "metadata": {},
   "source": [
    "## Plot similarities as 3D surface plot <a class=\"anchor\" id=\"sixth-bullet\"></a>"
   ]
  },
  {
   "cell_type": "code",
   "execution_count": null,
   "id": "982f6fcd",
   "metadata": {
    "scrolled": false
   },
   "outputs": [],
   "source": [
    "tools_plot.plot_similarity_self_3d(similarities_test,\n",
    "                                   plot_index=347,\n",
    "                                   plot_line=True,\n",
    "                                   path_save=f\"{path_dst}/TN_prediciton_similarities_self3D.svg\"\n",
    "                                  )\n",
    "\n",
    "display(SVG(filename=f\"{path_dst}/TN_prediciton_similarities_self3D.svg\"))"
   ]
  }
 ],
 "metadata": {
  "kernelspec": {
   "display_name": "Python 3 (ipykernel)",
   "language": "python",
   "name": "python3"
  },
  "language_info": {
   "codemirror_mode": {
    "name": "ipython",
    "version": 3
   },
   "file_extension": ".py",
   "mimetype": "text/x-python",
   "name": "python",
   "nbconvert_exporter": "python",
   "pygments_lexer": "ipython3",
   "version": "3.9.7"
  }
 },
 "nbformat": 4,
 "nbformat_minor": 5
}
